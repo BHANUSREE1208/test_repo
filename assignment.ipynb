{
 "cells": [
  {
   "cell_type": "code",
   "execution_count": 28,
   "id": "810399b9-ab0a-4cf0-86b2-9e808c9455c9",
   "metadata": {},
   "outputs": [
    {
     "name": "stdout",
     "output_type": "stream",
     "text": [
      "[['student1,Mathematics,88'], ['student1,Telugu,3'], ['student1,English,24'], ['student1,Social,59'], ['student1,Physics,18'], ['student1,Chemistry,80'], ['student2,Mathematics,74'], ['student2,Telugu,87'], ['student2,English,33'], ['student2,Social,72'], ['student2,Physics,56'], ['student2,Chemistry,81'], ['student3,Mathematics,35'], ['student3,Telugu,58'], ['student3,English,98'], ['student3,Social,82'], ['student3,Physics,10'], ['student3,Chemistry,47'], ['student4,Mathematics,9'], ['student4,Telugu,92'], ['student4,English,89'], ['student4,Social,56'], ['student4,Physics,50'], ['student4,Chemistry,27'], ['student5,Mathematics,99'], ['student5,Telugu,8'], ['student5,English,54'], ['student5,Social,41'], ['student5,Physics,27'], ['student5,Chemistry,90'], ['student6,Mathematics,36'], ['student6,Telugu,3'], ['student6,English,72'], ['student6,Social,96'], ['student6,Physics,100'], ['student6,Chemistry,17'], ['student7,Mathematics,82'], ['student7,Telugu,57'], ['student7,English,64'], ['student7,Social,57'], ['student7,Physics,58'], ['student7,Chemistry,50'], ['student8,Mathematics,61'], ['student8,Telugu,35'], ['student8,English,31'], ['student8,Social,28'], ['student8,Physics,40'], ['student8,Chemistry,27'], ['student9,Mathematics,42'], ['student9,Telugu,92'], ['student9,English,34'], ['student9,Social,74'], ['student9,Physics,32'], ['student9,Chemistry,77'], ['student10,Mathematics,41'], ['student10,Telugu,70'], ['student10,English,64'], ['student10,Social,73'], ['student10,Physics,32'], ['student10,Chemistry,38'], ['student11,Mathematics,95'], ['student11,Telugu,17'], ['student11,English,13'], ['student11,Social,20'], ['student11,Physics,98'], ['student11,Chemistry,8'], ['student12,Mathematics,14'], ['student12,Telugu,100'], ['student12,English,16'], ['student12,Social,37'], ['student12,Physics,22'], ['student12,Chemistry,68'], ['student13,Mathematics,11'], ['student13,Telugu,52'], ['student13,English,77'], ['student13,Social,43'], ['student13,Physics,88'], ['student13,Chemistry,87'], ['student14,Mathematics,41'], ['student14,Telugu,52'], ['student14,English,33'], ['student14,Social,33'], ['student14,Physics,20'], ['student14,Chemistry,71'], ['student15,Mathematics,68'], ['student15,Telugu,17'], ['student15,English,27'], ['student15,Social,54'], ['student15,Physics,44'], ['student15,Chemistry,1'], ['student16,Mathematics,97'], ['student16,Telugu,93'], ['student16,English,14'], ['student16,Social,90'], ['student16,Physics,19'], ['student16,Chemistry,11'], ['student17,Mathematics,61'], ['student17,Telugu,25'], ['student17,English,56'], ['student17,Social,51'], ['student17,Physics,33'], ['student17,Chemistry,32'], ['student18,Mathematics,15'], ['student18,Telugu,3'], ['student18,English,28'], ['student18,Social,24'], ['student18,Physics,88'], ['student18,Chemistry,25'], ['student19,Mathematics,71'], ['student19,Telugu,63'], ['student19,English,46'], ['student19,Social,7'], ['student19,Physics,42'], ['student19,Chemistry,79'], ['student20,Mathematics,28'], ['student20,Telugu,46'], ['student20,English,78'], ['student20,Social,8'], ['student20,Physics,52'], ['student20,Chemistry,92'], ['student21,Mathematics,4'], ['student21,Telugu,40'], ['student21,English,71'], ['student21,Social,65'], ['student21,Physics,23'], ['student21,Chemistry,85'], ['student22,Mathematics,40'], ['student22,Telugu,12'], ['student22,English,98'], ['student22,Social,37'], ['student22,Physics,82'], ['student22,Chemistry,7'], ['student23,Mathematics,71'], ['student23,Telugu,47'], ['student23,English,68'], ['student23,Social,65'], ['student23,Physics,17'], ['student23,Chemistry,33'], ['student24,Mathematics,70'], ['student24,Telugu,22'], ['student24,English,57'], ['student24,Social,66'], ['student24,Physics,7'], ['student24,Chemistry,4'], ['student25,Mathematics,30'], ['student25,Telugu,74'], ['student25,English,75'], ['student25,Social,69'], ['student25,Physics,32'], ['student25,Chemistry,13'], ['student26,Mathematics,59'], ['student26,Telugu,94'], ['student26,English,92'], ['student26,Social,77'], ['student26,Physics,50'], ['student26,Chemistry,71'], ['student27,Mathematics,46'], ['student27,Telugu,77'], ['student27,English,12'], ['student27,Social,94'], ['student27,Physics,61'], ['student27,Chemistry,76'], ['student28,Mathematics,39'], ['student28,Telugu,89'], ['student28,English,7'], ['student28,Social,27'], ['student28,Physics,23'], ['student28,Chemistry,51'], ['student29,Mathematics,6'], ['student29,Telugu,45'], ['student29,English,69'], ['student29,Social,20'], ['student29,Physics,6'], ['student29,Chemistry,16'], ['student30,Mathematics,20'], ['student30,Telugu,61'], ['student30,English,62'], ['student30,Social,59'], ['student30,Physics,32'], ['student30,Chemistry,14'], ['student31,Mathematics,15'], ['student31,Telugu,89'], ['student31,English,57'], ['student31,Social,27'], ['student31,Physics,35'], ['student31,Chemistry,28'], ['student32,Mathematics,56'], ['student32,Telugu,18'], ['student32,English,24'], ['student32,Social,87'], ['student32,Physics,41'], ['student32,Chemistry,52'], ['student33,Mathematics,28'], ['student33,Telugu,39'], ['student33,English,54'], ['student33,Social,29'], ['student33,Physics,7'], ['student33,Chemistry,36'], ['student34,Mathematics,54'], ['student34,Telugu,53'], ['student34,English,46'], ['student34,Social,4'], ['student34,Physics,73'], ['student34,Chemistry,18'], ['student35,Mathematics,77'], ['student35,Telugu,20'], ['student35,English,22'], ['student35,Social,61'], ['student35,Physics,1'], ['student35,Chemistry,69'], ['student36,Mathematics,6'], ['student36,Telugu,1'], ['student36,English,36'], ['student36,Social,40'], ['student36,Physics,8'], ['student36,Chemistry,11'], ['student37,Mathematics,77'], ['student37,Telugu,50'], ['student37,English,68'], ['student37,Social,48'], ['student37,Physics,89'], ['student37,Chemistry,83'], ['student38,Mathematics,95'], ['student38,Telugu,93'], ['student38,English,60'], ['student38,Social,4'], ['student38,Physics,6'], ['student38,Chemistry,45'], ['student39,Mathematics,76'], ['student39,Telugu,75'], ['student39,English,38'], ['student39,Social,60'], ['student39,Physics,32'], ['student39,Chemistry,42'], ['student40,Mathematics,90'], ['student40,Telugu,88'], ['student40,English,56'], ['student40,Social,73'], ['student40,Physics,56'], ['student40,Chemistry,79'], ['student41,Mathematics,10'], ['student41,Telugu,100'], ['student41,English,99'], ['student41,Social,53'], ['student41,Physics,65'], ['student41,Chemistry,42'], ['student42,Mathematics,9'], ['student42,Telugu,51'], ['student42,English,15'], ['student42,Social,46'], ['student42,Physics,90'], ['student42,Chemistry,9'], ['student43,Mathematics,31'], ['student43,Telugu,66'], ['student43,English,20'], ['student43,Social,78'], ['student43,Physics,32'], ['student43,Chemistry,14'], ['student44,Mathematics,12'], ['student44,Telugu,69'], ['student44,English,96'], ['student44,Social,8'], ['student44,Physics,67'], ['student44,Chemistry,10'], ['student45,Mathematics,42'], ['student45,Telugu,78'], ['student45,English,14'], ['student45,Social,33'], ['student45,Physics,31'], ['student45,Chemistry,68'], ['student46,Mathematics,88'], ['student46,Telugu,46'], ['student46,English,3'], ['student46,Social,100'], ['student46,Physics,65'], ['student46,Chemistry,68'], ['student47,Mathematics,41'], ['student47,Telugu,40'], ['student47,English,67'], ['student47,Social,26'], ['student47,Physics,36'], ['student47,Chemistry,83'], ['student48,Mathematics,8'], ['student48,Telugu,85'], ['student48,English,75'], ['student48,Social,31'], ['student48,Physics,45'], ['student48,Chemistry,86'], ['student49,Mathematics,37'], ['student49,Telugu,16'], ['student49,English,31'], ['student49,Social,71'], ['student49,Physics,7'], ['student49,Chemistry,35'], ['student50,Mathematics,57'], ['student50,Telugu,82'], ['student50,English,63'], ['student50,Social,6'], ['student50,Physics,46'], ['student50,Chemistry,63'], ['student51,Mathematics,38'], ['student51,Telugu,70'], ['student51,English,92'], ['student51,Social,83'], ['student51,Physics,81'], ['student51,Chemistry,57'], ['student52,Mathematics,64'], ['student52,Telugu,83'], ['student52,English,99'], ['student52,Social,45'], ['student52,Physics,96'], ['student52,Chemistry,73'], ['student53,Mathematics,29'], ['student53,Telugu,81'], ['student53,English,16'], ['student53,Social,46'], ['student53,Physics,10'], ['student53,Chemistry,86'], ['student54,Mathematics,47'], ['student54,Telugu,24'], ['student54,English,59'], ['student54,Social,30'], ['student54,Physics,71'], ['student54,Chemistry,56'], ['student55,Mathematics,12'], ['student55,Telugu,92'], ['student55,English,79'], ['student55,Social,15'], ['student55,Physics,23'], ['student55,Chemistry,29'], ['student56,Mathematics,36'], ['student56,Telugu,30'], ['student56,English,31'], ['student56,Social,47'], ['student56,Physics,94'], ['student56,Chemistry,59'], ['student57,Mathematics,73'], ['student57,Telugu,36'], ['student57,English,37'], ['student57,Social,23'], ['student57,Physics,76'], ['student57,Chemistry,99'], ['student58,Mathematics,14'], ['student58,Telugu,65'], ['student58,English,61'], ['student58,Social,4'], ['student58,Physics,65'], ['student58,Chemistry,89'], ['student59,Mathematics,68'], ['student59,Telugu,69'], ['student59,English,49'], ['student59,Social,76'], ['student59,Physics,32'], ['student59,Chemistry,30'], ['student60,Mathematics,45'], ['student60,Telugu,17'], ['student60,English,38'], ['student60,Social,88'], ['student60,Physics,97'], ['student60,Chemistry,44'], ['student61,Mathematics,42'], ['student61,Telugu,70'], ['student61,English,53'], ['student61,Social,90'], ['student61,Physics,49'], ['student61,Chemistry,58'], ['student62,Mathematics,14'], ['student62,Telugu,15'], ['student62,English,48'], ['student62,Social,56'], ['student62,Physics,47'], ['student62,Chemistry,32'], ['student63,Mathematics,31'], ['student63,Telugu,9'], ['student63,English,7'], ['student63,Social,88'], ['student63,Physics,9'], ['student63,Chemistry,10'], ['student64,Mathematics,22'], ['student64,Telugu,28'], ['student64,English,72'], ['student64,Social,36'], ['student64,Physics,89'], ['student64,Chemistry,83'], ['student65,Mathematics,13'], ['student65,Telugu,70'], ['student65,English,52'], ['student65,Social,66'], ['student65,Physics,60'], ['student65,Chemistry,47'], ['student66,Mathematics,66'], ['student66,Telugu,87'], ['student66,English,78'], ['student66,Social,99'], ['student66,Physics,36'], ['student66,Chemistry,64'], ['student67,Mathematics,96'], ['student67,Telugu,97'], ['student67,English,90'], ['student67,Social,42'], ['student67,Physics,29'], ['student67,Chemistry,74'], ['student68,Mathematics,95'], ['student68,Telugu,20'], ['student68,English,63'], ['student68,Social,79'], ['student68,Physics,60'], ['student68,Chemistry,61'], ['student69,Mathematics,34'], ['student69,Telugu,52'], ['student69,English,47'], ['student69,Social,50'], ['student69,Physics,18'], ['student69,Chemistry,20'], ['student70,Mathematics,85'], ['student70,Telugu,46'], ['student70,English,85'], ['student70,Social,69'], ['student70,Physics,92'], ['student70,Chemistry,82'], ['student71,Mathematics,73'], ['student71,Telugu,86'], ['student71,English,31'], ['student71,Social,31'], ['student71,Physics,65'], ['student71,Chemistry,85'], ['student72,Mathematics,39'], ['student72,Telugu,53'], ['student72,English,28'], ['student72,Social,78'], ['student72,Physics,97'], ['student72,Chemistry,93'], ['student73,Mathematics,30'], ['student73,Telugu,8'], ['student73,English,23'], ['student73,Social,68'], ['student73,Physics,20'], ['student73,Chemistry,34'], ['student74,Mathematics,80'], ['student74,Telugu,14'], ['student74,English,25'], ['student74,Social,12'], ['student74,Physics,66'], ['student74,Chemistry,89'], ['student75,Mathematics,2'], ['student75,Telugu,35'], ['student75,English,94'], ['student75,Social,23'], ['student75,Physics,49'], ['student75,Chemistry,11'], ['student76,Mathematics,92'], ['student76,Telugu,12'], ['student76,English,46'], ['student76,Social,22'], ['student76,Physics,39'], ['student76,Chemistry,82'], ['student77,Mathematics,59'], ['student77,Telugu,19'], ['student77,English,65'], ['student77,Social,52'], ['student77,Physics,71'], ['student77,Chemistry,94'], ['student78,Mathematics,45'], ['student78,Telugu,62'], ['student78,English,73'], ['student78,Social,9'], ['student78,Physics,43'], ['student78,Chemistry,18'], ['student79,Mathematics,84'], ['student79,Telugu,79'], ['student79,English,84'], ['student79,Social,88'], ['student79,Physics,21'], ['student79,Chemistry,88'], ['student80,Mathematics,71'], ['student80,Telugu,89'], ['student80,English,71'], ['student80,Social,69'], ['student80,Physics,83'], ['student80,Chemistry,48'], ['student81,Mathematics,70'], ['student81,Telugu,49'], ['student81,English,66'], ['student81,Social,34'], ['student81,Physics,10'], ['student81,Chemistry,19'], ['student82,Mathematics,12'], ['student82,Telugu,43'], ['student82,English,73'], ['student82,Social,43'], ['student82,Physics,8'], ['student82,Chemistry,90'], ['student83,Mathematics,25'], ['student83,Telugu,39'], ['student83,English,90'], ['student83,Social,28'], ['student83,Physics,23'], ['student83,Chemistry,73'], ['student84,Mathematics,54'], ['student84,Telugu,67'], ['student84,English,45'], ['student84,Social,28'], ['student84,Physics,63'], ['student84,Chemistry,26'], ['student85,Mathematics,28'], ['student85,Telugu,25'], ['student85,English,9'], ['student85,Social,81'], ['student85,Physics,93'], ['student85,Chemistry,3'], ['student86,Mathematics,99'], ['student86,Telugu,56'], ['student86,English,56'], ['student86,Social,9'], ['student86,Physics,71'], ['student86,Chemistry,36'], ['student87,Mathematics,80'], ['student87,Telugu,49'], ['student87,English,70'], ['student87,Social,34'], ['student87,Physics,10'], ['student87,Chemistry,20'], ['student88,Mathematics,11'], ['student88,Telugu,38'], ['student88,English,2'], ['student88,Social,68'], ['student88,Physics,54'], ['student88,Chemistry,60'], ['student89,Mathematics,55'], ['student89,Telugu,59'], ['student89,English,32'], ['student89,Social,91'], ['student89,Physics,11'], ['student89,Chemistry,25'], ['student90,Mathematics,85'], ['student90,Telugu,75'], ['student90,English,69'], ['student90,Social,29'], ['student90,Physics,23'], ['student90,Chemistry,1'], ['student91,Mathematics,29'], ['student91,Telugu,100'], ['student91,English,70'], ['student91,Social,97'], ['student91,Physics,25'], ['student91,Chemistry,78'], ['student92,Mathematics,83'], ['student92,Telugu,19'], ['student92,English,77'], ['student92,Social,79'], ['student92,Physics,52'], ['student92,Chemistry,26'], ['student93,Mathematics,82'], ['student93,Telugu,44'], ['student93,English,97'], ['student93,Social,6'], ['student93,Physics,91'], ['student93,Chemistry,90'], ['student94,Mathematics,25'], ['student94,Telugu,62'], ['student94,English,29'], ['student94,Social,22'], ['student94,Physics,15'], ['student94,Chemistry,74'], ['student95,Mathematics,61'], ['student95,Telugu,21'], ['student95,English,44'], ['student95,Social,42'], ['student95,Physics,51'], ['student95,Chemistry,2'], ['student96,Mathematics,100'], ['student96,Telugu,90'], ['student96,English,40'], ['student96,Social,81'], ['student96,Physics,39'], ['student96,Chemistry,88'], ['student97,Mathematics,46'], ['student97,Telugu,74'], ['student97,English,89'], ['student97,Social,92'], ['student97,Physics,5'], ['student97,Chemistry,80'], ['student98,Mathematics,33'], ['student98,Telugu,29'], ['student98,English,12'], ['student98,Social,88'], ['student98,Physics,20'], ['student98,Chemistry,81'], ['student99,Mathematics,72'], ['student99,Telugu,63'], ['student99,English,94'], ['student99,Social,43'], ['student99,Physics,57'], ['student99,Chemistry,15'], ['student100,Mathematics,77'], ['student100,Telugu,59'], ['student100,English,92'], ['student100,Social,39'], ['student100,Physics,33'], ['student100,Chemistry,30']]\n",
      "[['student100,Chemistry,30'], ['student100,Chemistry,30'], ['student100,Chemistry,30'], ['student100,Chemistry,30'], ['student100,Chemistry,30'], ['student100,Chemistry,30'], ['student100,Chemistry,30'], ['student100,Chemistry,30'], ['student100,Chemistry,30'], ['student100,Chemistry,30'], ['student100,Chemistry,30'], ['student100,Chemistry,30'], ['student100,Chemistry,30'], ['student100,Chemistry,30'], ['student100,Chemistry,30'], ['student100,Chemistry,30'], ['student100,Chemistry,30'], ['student100,Chemistry,30'], ['student100,Chemistry,30'], ['student100,Chemistry,30'], ['student100,Chemistry,30'], ['student100,Chemistry,30'], ['student100,Chemistry,30'], ['student100,Chemistry,30'], ['student100,Chemistry,30'], ['student100,Chemistry,30'], ['student100,Chemistry,30'], ['student100,Chemistry,30'], ['student100,Chemistry,30'], ['student100,Chemistry,30'], ['student100,Chemistry,30'], ['student100,Chemistry,30'], ['student100,Chemistry,30'], ['student100,Chemistry,30'], ['student100,Chemistry,30'], ['student100,Chemistry,30'], ['student100,Chemistry,30'], ['student100,Chemistry,30'], ['student100,Chemistry,30'], ['student100,Chemistry,30'], ['student100,Chemistry,30'], ['student100,Chemistry,30']]\n"
     ]
    }
   ],
   "source": [
    " student_records=[]\n",
    "with open(\"student_marks.csv\")as f:\n",
    "    for line in f:\n",
    "        student_records.append(line.rstrip(\"\\n \").split('\\n'))\n",
    "print(student_records)\n",
    "\n",
    "with open (\"subject_faculty.csv\")as f:\n",
    "    for line in f:\n",
    "        subject_reco+rds.append(line.rstrip(\"\\n \").split('\\n'))\n",
    "print(subject_records)\n",
    "        \n",
    "        \n",
    "        "
   ]
  },
  {
   "cell_type": "code",
   "execution_count": 29,
   "id": "6c6b90c8-224d-4ee5-9223-389863aedb20",
   "metadata": {},
   "outputs": [
    {
     "name": "stdout",
     "output_type": "stream",
     "text": [
      "[['student100,Chemistry,30'], ['student100,Chemistry,30'], ['student100,Chemistry,30'], ['student100,Chemistry,30'], ['student100,Chemistry,30'], ['student100,Chemistry,30']]\n"
     ]
    }
   ],
   "source": [
    "subject_records=[]\n",
    "with open (\"subject_faculty.csv\")as f:\n",
    "    for linr in f:\n",
    "        subject_records.append(line.rstrip(\"\\n \").split('\\n'))\n",
    "print(subject_records)\n",
    "        \n",
    "        "
   ]
  },
  {
   "cell_type": "code",
   "execution_count": 39,
   "id": "eb000c3c-d584-4eba-a48c-76d9d8278879",
   "metadata": {},
   "outputs": [],
   "source": [
    "#Who is the top student with maximum total?\n"
   ]
  },
  {
   "cell_type": "code",
   "execution_count": 57,
   "id": "0781ad00-a756-4487-b332-b0cfb803a763",
   "metadata": {},
   "outputs": [
    {
     "name": "stdout",
     "output_type": "stream",
     "text": [
      "student52\n",
      "460\n"
     ]
    }
   ],
   "source": [
    "with open(\"student_marks.csv\", newline='') as f:\n",
    "    data = csv.DictReader(f, fieldnames=['name', 'subject', 'marks'])\n",
    "    \n",
    "    student_total_marks = {}\n",
    "    for record in data:\n",
    "        # print(record)\n",
    "        if record['name'] not in student_total_marks:\n",
    "            student_total_marks[record['name']] = int(record['marks'])\n",
    "        else:\n",
    "            student_total_marks[record['name']] += int(record['marks'])\n",
    "            \n",
    "# print(student_total_marks)\n",
    "top_student = max(student_total_marks, key=student_total_marks.get)\n",
    "max_marks = student_total_marks[top_student]\n",
    "print(top_student)\n",
    "print(max_marks) \n"
   ]
  },
  {
   "cell_type": "code",
   "execution_count": null,
   "id": "38042932-d1ee-4ca7-b16d-13340a5198f5",
   "metadata": {},
   "outputs": [],
   "source": [
    "#Who is the best student in Mathematics"
   ]
  },
  {
   "cell_type": "code",
   "execution_count": 5,
   "id": "a00c08c5-2548-47c5-8d02-e698ea46b905",
   "metadata": {},
   "outputs": [
    {
     "name": "stdout",
     "output_type": "stream",
     "text": [
      "The best student in Mathematics is: student1\n",
      "Average Mathematics score: 88.0\n"
     ]
    }
   ],
   "source": [
    "import csv\n",
    "    \n",
    "student_scores = {}\n",
    "for entry in data:\n",
    "    student, subject, score = entry[0].split(',')\n",
    "    if subject == 'Mathematics':\n",
    "        if student in student_scores:\n",
    "            student_scores[student].append(int(score))\n",
    "        else:\n",
    "            student_scores[student] = [int(score)]\n",
    "\n",
    "average_scores = {student: sum(scores) / len(scores) for student, scores in student_scores.items()}\n",
    "best_student = max(average_scores, key=average_scores.get)\n",
    "best_score = average_scores[best_student]\n",
    "\n",
    "print(\"The best student in Mathematics is:\", best_student)\n",
    "print(\"Average Mathematics score:\", best_score)\n"
   ]
  },
  {
   "cell_type": "code",
   "execution_count": null,
   "id": "611cba98-fcdd-46f5-956d-4f71fc1b0bc7",
   "metadata": {},
   "outputs": [],
   "source": [
    "#What is the average mark for each subject, (ignore failures)"
   ]
  },
  {
   "cell_type": "code",
   "execution_count": 6,
   "id": "1bc476f9-acff-4c6c-ac6c-c753be91d4c2",
   "metadata": {},
   "outputs": [
    {
     "name": "stdout",
     "output_type": "stream",
     "text": [
      "Average marks for each subject:\n",
      "Mathematics: 65.67\n"
     ]
    }
   ],
   "source": [
    "import csv\n",
    "subject_marks = {}\n",
    "\n",
    "for entry in data:\n",
    "    student_data = entry[0].split(',')\n",
    "    if len(student_data) == 3:\n",
    "        student, subject, mark = student_data\n",
    "        mark = int(mark)\n",
    "  \n",
    "        if mark >= 35:\n",
    "            if subject not in subject_marks:\n",
    "                subject_marks[subject] = []\n",
    "            subject_marks[subject].append(mark)\n",
    "\n",
    "average_marks = {}\n",
    "for subject, marks in subject_marks.items():\n",
    "    average_marks[subject] = sum(marks) / len(marks)\n",
    "\n",
    "print(\"Average marks for each subject:\")\n",
    "for subject, average_mark in average_marks.items():\n",
    "    print(f\"{subject}: {average_mark:.2f}\")\n"
   ]
  },
  {
   "cell_type": "code",
   "execution_count": null,
   "id": "e817c016-94ca-4c15-9a50-fc8a28ceaab2",
   "metadata": {},
   "outputs": [],
   "source": [
    "#Find the student with least numbers of marks as total."
   ]
  },
  {
   "cell_type": "code",
   "execution_count": 7,
   "id": "90034e62-70f9-4bae-a095-d53686f38ea1",
   "metadata": {},
   "outputs": [
    {
     "name": "stdout",
     "output_type": "stream",
     "text": [
      "Student with least total marks: student3 (Total Marks: 35)\n"
     ]
    }
   ],
   "source": [
    "import csv\n",
    "student_totals = {}\n",
    "\n",
    "for entry in data:\n",
    "    student_data = entry[0].split(',')\n",
    "    if len(student_data) == 3:\n",
    "        student, _, mark = student_data\n",
    "        mark = int(mark)\n",
    "        \n",
    "        if student not in student_totals:\n",
    "            student_totals[student] = 0\n",
    "        student_totals[student] += mark\n",
    "\n",
    "min_total = float('inf')\n",
    "min_student = None\n",
    "for student, total in student_totals.items():\n",
    "    if total < min_total:\n",
    "        min_total = total\n",
    "        min_student = student\n",
    "\n",
    "print(f\"Student with least total marks: {min_student} (Total Marks: {min_total})\")\n"
   ]
  },
  {
   "cell_type": "code",
   "execution_count": null,
   "id": "67f05065-6e4c-4c1c-aa05-04808b394c03",
   "metadata": {},
   "outputs": [],
   "source": [
    "#Find the faculty with least pass percentage (<= 40%) "
   ]
  },
  {
   "cell_type": "code",
   "execution_count": 9,
   "id": "503b86a3-c08d-4b3d-a27a-d6b663b3d50b",
   "metadata": {},
   "outputs": [
    {
     "name": "stdout",
     "output_type": "stream",
     "text": [
      "Faculty with highest pass percentage (> 40%): Mathematics (Pass Percentage: 66.67%)\n"
     ]
    }
   ],
   "source": [
    "import csv\n",
    "\n",
    "faculty_marks = {}\n",
    "faculty_passed = {}\n",
    "\n",
    "for entry in data:\n",
    "    student_data = entry[0].split(',')\n",
    "    if len(student_data) == 3:\n",
    "        student, faculty, mark = student_data\n",
    "        mark = int(mark)\n",
    "        \n",
    "        if faculty not in faculty_marks:\n",
    "            faculty_marks[faculty] = 0\n",
    "            faculty_passed[faculty] = 0\n",
    "        faculty_marks[faculty] += mark\n",
    "        if mark >= 40: \n",
    "            faculty_passed[faculty] += 1\n",
    "\n",
    "faculty_pass_percentages = {}\n",
    "\n",
    "for faculty, total_marks in faculty_marks.items():\n",
    "    passed_count = faculty_passed[faculty]\n",
    "    pass_percentage = (passed_count / len(data)) * 100\n",
    "    faculty_pass_percentages[faculty] = pass_percentage\n",
    "\n",
    "max_pass_percentage = 0\n",
    "max_faculty = None\n",
    "for faculty, pass_percentage in faculty_pass_percentages.items():\n",
    "    if pass_percentage > 40 and pass_percentage > max_pass_percentage:\n",
    "        max_pass_percentage = pass_percentage\n",
    "        max_faculty = faculty\n",
    "\n",
    "print(f\"Faculty with highest pass percentage (> 40%): {max_faculty} (Pass Percentage: {max_pass_percentage:.2f}%)\")\n"
   ]
  },
  {
   "cell_type": "code",
   "execution_count": null,
   "id": "cd5de7d3-43eb-40ab-86bd-cf4ce9f1d96c",
   "metadata": {},
   "outputs": [],
   "source": [
    "#Find the faculty with highest pass percentage (> 40%) "
   ]
  },
  {
   "cell_type": "code",
   "execution_count": 11,
   "id": "ab95317d-398d-4b4a-9b35-951ded7011e0",
   "metadata": {},
   "outputs": [
    {
     "name": "stdout",
     "output_type": "stream",
     "text": [
      "Faculty with the highest pass percentage (> 40%): Mathematics\n"
     ]
    }
   ],
   "source": [
    "\n",
    "\n",
    "faculty_pass_count = {}\n",
    "faculty_total_count = {}\n",
    "\n",
    "for entry in data:\n",
    "    student_data = entry[0].split(',')\n",
    "    if len(student_data) == 3:\n",
    "        student, faculty, mark = student_data\n",
    "        mark = int(mark)\n",
    "        \n",
    "        if faculty not in faculty_pass_count:\n",
    "            faculty_pass_count[faculty] = 0\n",
    "            faculty_total_count[faculty] = 0\n",
    "        \n",
    "        faculty_total_count[faculty] += 1\n",
    "        if mark >= 40:  \n",
    "            faculty_pass_count[faculty] += 1\n",
    "\n",
    "faculty_pass_percentages = {}\n",
    "\n",
    "for faculty in faculty_total_count:\n",
    "    pass_count = faculty_pass_count.get(faculty, 0)\n",
    "    total_count = faculty_total_count.get(faculty, 1)  \n",
    "    pass_percentage = (pass_count / total_count) * 100\n",
    "    faculty_pass_percentages[faculty] = pass_percentage\n",
    "\n",
    "highest_pass_faculty = None\n",
    "highest_pass_percentage = 0\n",
    "\n",
    "for faculty, pass_percentage in faculty_pass_percentages.items():\n",
    "    if pass_percentage > 40 and pass_percentage > highest_pass_percentage:\n",
    "        highest_pass_percentage = pass_percentage\n",
    "        highest_pass_faculty = faculty\n",
    "\n",
    "print(f\"Faculty with the highest pass percentage (> 40%): {highest_pass_faculty}\")\n"
   ]
  },
  {
   "cell_type": "code",
   "execution_count": null,
   "id": "f22e1d75-144e-41fb-af35-129cc62c555c",
   "metadata": {},
   "outputs": [],
   "source": [
    "#Find the faculty with highest student count who got more than 90%."
   ]
  },
  {
   "cell_type": "code",
   "execution_count": 13,
   "id": "3a7be14c-ff0a-4c95-8172-16edbfc57605",
   "metadata": {},
   "outputs": [
    {
     "name": "stdout",
     "output_type": "stream",
     "text": [
      "Faculty with the highest student count (> 90%): None\n"
     ]
    }
   ],
   "source": [
    "import csv\n",
    "\n",
    "faculty_high_marks_count = {}\n",
    "\n",
    "for entry in data:\n",
    "    student_data = entry[0].split(',')\n",
    "    if len(student_data) == 3:\n",
    "        student, faculty, mark = student_data\n",
    "        mark = int(mark)\n",
    "        \n",
    "        if faculty not in faculty_high_marks_count:\n",
    "            faculty_high_marks_count[faculty] = 0\n",
    "        \n",
    "        if mark > 90: \n",
    "            faculty_high_marks_count[faculty] += 1\n",
    "\n",
    "highest_student_count_faculty = None\n",
    "highest_student_count = 0\n",
    "\n",
    "for faculty, student_count in faculty_high_marks_count.items():\n",
    "    if student_count > highest_student_count:\n",
    "        highest_student_count = student_count\n",
    "        highest_student_count_faculty = faculty\n",
    "\n",
    "print(f\"Faculty with the highest student count (> 90%): {highest_student_count_faculty}\")\n"
   ]
  },
  {
   "cell_type": "code",
   "execution_count": null,
   "id": "96477291-8afe-4328-b819-4164fa325e4c",
   "metadata": {},
   "outputs": [],
   "source": []
  },
  {
   "cell_type": "code",
   "execution_count": null,
   "id": "8160ce61-7e05-4007-9a99-87e816e71e7f",
   "metadata": {},
   "outputs": [],
   "source": []
  },
  {
   "cell_type": "code",
   "execution_count": null,
   "id": "c608d2e0-b0ad-4a75-924e-2492ee8067e1",
   "metadata": {},
   "outputs": [],
   "source": []
  },
  {
   "cell_type": "code",
   "execution_count": null,
   "id": "6001bc6f-e132-4411-81a0-984f8e271820",
   "metadata": {},
   "outputs": [],
   "source": []
  },
  {
   "cell_type": "code",
   "execution_count": null,
   "id": "7bfd8b69-2f64-4aa2-af64-2689d89e18f4",
   "metadata": {},
   "outputs": [],
   "source": []
  }
 ],
 "metadata": {
  "kernelspec": {
   "display_name": "Python 3 (ipykernel)",
   "language": "python",
   "name": "python3"
  },
  "language_info": {
   "codemirror_mode": {
    "name": "ipython",
    "version": 3
   },
   "file_extension": ".py",
   "mimetype": "text/x-python",
   "name": "python",
   "nbconvert_exporter": "python",
   "pygments_lexer": "ipython3",
   "version": "3.10.9"
  }
 },
 "nbformat": 4,
 "nbformat_minor": 5
}
